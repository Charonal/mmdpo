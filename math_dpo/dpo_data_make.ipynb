{
 "cells": [
  {
   "cell_type": "code",
   "execution_count": 1,
   "metadata": {},
   "outputs": [],
   "source": [
    "import json"
   ]
  },
  {
   "cell_type": "code",
   "execution_count": 6,
   "metadata": {},
   "outputs": [],
   "source": [
    "file = '/data/lyz/math_dpo/datas/sol2sol/gsm8k_select_2.json'\n",
    "with open(file) as f:\n",
    "    datas_s2s= json.load(f)\n",
    "file = '/data/lyz/math_dpo/datas/infer2infer/gsm8k_select_2.json'\n",
    "with open(file) as f:\n",
    "    datas_i2i= json.load(f)\n",
    "file = '/data/lyz/math_dpo/datas/step2step/gsm8k_select_2.json'\n",
    "with open(file) as f:\n",
    "    datas_st2st= json.load(f)"
   ]
  },
  {
   "cell_type": "code",
   "execution_count": 8,
   "metadata": {},
   "outputs": [],
   "source": [
    "datas_dpo = []"
   ]
  },
  {
   "cell_type": "code",
   "execution_count": null,
   "metadata": {},
   "outputs": [],
   "source": []
  },
  {
   "cell_type": "code",
   "execution_count": 10,
   "metadata": {},
   "outputs": [
    {
     "data": {
      "text/plain": [
       "{'question': 'Natalia sold clips to 48 of her friends in April, and then she sold half as many clips in May. How many clips did Natalia sell altogether in April and May?',\n",
       " 'answer': 'Natalia sold 48/2 = <<48/2=24>>24 clips in May.\\nNatalia sold 48+24 = <<48+24=72>>72 clips altogether in April and May.\\n#### 72',\n",
       " 'final_answer': 72.0,\n",
       " 'solutions': [\"To find out how many clips Natalia sold in May, we'll calculate half of the number of clips she sold in April. \\n\\nApril sales: 48 clips\\n\\nMay sales: \\\\(48 \\\\div 2 = 24\\\\) clips\\n\\nNow, to find the total number of clips sold in April and May, we'll add the number of clips sold in each month.\\n\\nTotal clips sold: \\\\(48 + 24 = 72\\\\) clips\\n\\nSo, the numerical answer is: 72\",\n",
       "  'To find out how many clips Natalia sold in May, we need to calculate half of the amount she sold in April. Since she sold 48 clips in April:\\n\\n[Step 1]: Clips sold in May = 48 / 2\\n\\n[Step 2]: So, the numerical answer is: 24',\n",
       "  'To find out how many clips Natalia sold in May, we need to calculate half of the number of clips she sold in April. Since she sold 48 clips in April, we do:\\n\\n\\\\[ \\\\text{Clips sold in May} = \\\\frac{48}{2} \\\\]\\n\\n\\\\[ \\\\text{Clips sold in May} = 24 \\\\]\\n\\nNow, to find out the total number of clips she sold in April and May, we add the number of clips sold in April to the number of clips sold in May:\\n\\n\\\\[ \\\\text{Total clips sold} = \\\\text{Clips sold in April} + \\\\text{Clips sold in May} \\\\]\\n\\n\\\\[ \\\\text{Total clips sold} = 48 + 24 \\\\]\\n\\n\\\\[ \\\\text{Total clips sold} = 72 \\\\]\\n\\nSo, the numerical answer is: 72',\n",
       "  'To find out how many clips Natalia sold in April and May altogether, we first need to determine how many clips she sold in May. Since she sold half as many clips in May as she did in April, we can calculate the number of clips sold in May by dividing the number of clips sold in April by 2.\\n\\nGiven that Natalia sold 48 clips in April:\\n\\n[Step 1]: Number of clips sold in May = 48 / 2 = 24 clips.\\n\\nNow, we need to find the total number of clips sold in both April and May.\\n\\n[Step 2]: Total number of clips sold = Number of clips sold in April + Number of clips sold in May = 48 + 24 = 72 clips.\\n\\nSo, the numerical answer is: [72]',\n",
       "  '[Step 1]: Natalia sold 48 clips in April.\\n[Step 2]: In May, Natalia sold half as many clips as in April, so she sold \\\\(48/2 = 24\\\\) clips in May.\\n[Step 3]: To find the total number of clips sold in April and May, we add the number of clips sold in each month: \\\\(48 + 24\\\\).\\n[Step 4]: So, the numerical answer is: \\\\(72\\\\).',\n",
       "  'Natalia sold 48 clips in April.\\n[Step 2]: In May, she sold half as many clips as she did in April, so she sold \\\\(48/2 = 24\\\\) clips in May.\\n[Step 3]: To find the total number of clips Natalia sold in April and May, we add the number of clips sold in April and May together, so \\\\(48 + 24 = 72\\\\).\\nSo, the numerical answer is: 72',\n",
       "  'To find out how many clips Natalia sold in May, we can calculate half of the number of clips she sold in April. Since she sold 48 clips in April, we can use the formula:\\n\\n\\\\[ \\\\text{Clips sold in May} = \\\\frac{1}{2} \\\\times \\\\text{Clips sold in April} \\\\]\\n\\n\\\\[ \\\\text{Clips sold in May} = \\\\frac{1}{2} \\\\times 48 \\\\]\\n\\n\\\\[ \\\\text{Clips sold in May} = 24 \\\\]\\n\\n[Step 2]: \\n\\nNow that we know she sold 24 clips in May, to find the total number of clips sold in April and May, we can add the number of clips sold in each month:\\n\\n\\\\[ \\\\text{Total clips sold} = \\\\text{Clips sold in April} + \\\\text{Clips sold in May} \\\\]\\n\\n\\\\[ \\\\text{Total clips sold} = 48 + 24 \\\\]\\n\\n\\\\[ \\\\text{Total clips sold} = 72 \\\\]\\n\\nSo, the numerical answer is: [72]',\n",
       "  \"First, let's calculate how many clips Natalia sold in May. Since she sold half as many clips in May as she did in April, we need to divide the number of clips sold in April by 2.\\n\\nSo, the number of clips sold in May = Number of clips sold in April / 2 = 48 / 2 = 24.\\n\\n[Step 2]: Now, to find the total number of clips Natalia sold in April and May, we need to add the number of clips sold in April to the number of clips sold in May.\\n\\nTotal clips sold = Number of clips sold in April + Number of clips sold in May = 48 + 24.\\n\\n[Step 3]: Let's calculate the total number of clips sold.\\n\\nTotal clips sold = 48 + 24 = 72.\\n\\nSo, the numerical answer is: 72.\",\n",
       "  \"First, we need to find out how many clips Natalia sold in May. Since she sold half as many clips in May as she did in April, we can calculate the number of clips sold in May as follows:\\n\\n\\\\[ \\\\text{Clips sold in May} = \\\\frac{1}{2} \\\\times \\\\text{Clips sold in April} \\\\]\\n\\nGiven that Natalia sold 48 clips in April:\\n\\n\\\\[ \\\\text{Clips sold in May} = \\\\frac{1}{2} \\\\times 48 = 24 \\\\]\\n\\nNow, to find the total number of clips sold in April and May, we simply add the number of clips sold in April to the number of clips sold in May:\\n\\n\\\\[ \\\\text{Total clips sold} = \\\\text{Clips sold in April} + \\\\text{Clips sold in May} \\\\]\\n\\n\\\\[ \\\\text{Total clips sold} = 48 + 24 \\\\]\\n\\nLet's calculate the total.\\n[Step 2]: \\n\\\\[ \\\\text{Total clips sold} = 48 + 24 = 72 \\\\]\\n\\nSo, the numerical answer is: [72]\",\n",
       "  \"First, let's find out how many clips Natalia sold in May. Since she sold half as many clips in May as she did in April, we can calculate this by dividing the number of clips sold in April by 2.\\n\\n[Step 1]: Number of clips sold in May = Number of clips sold in April / 2 = 48 / 2 = 24\\n\\nNow, we'll add the number of clips sold in April to the number of clips sold in May to find the total number of clips sold in both months.\\n\\n[Step 2]: Total number of clips sold = Number of clips sold in April + Number of clips sold in May = 48 + 24 = 72\\n\\nSo, the numerical answer is: 72\"],\n",
       " 'answers_extract': [72, 24, 72, 72, 72, 72, 72, 72, 72, 72],\n",
       " 'is_answer': [True, False, True, True, True, True, True, True, True, True]}"
      ]
     },
     "execution_count": 10,
     "metadata": {},
     "output_type": "execute_result"
    }
   ],
   "source": [
    "datas[0]"
   ]
  },
  {
   "cell_type": "code",
   "execution_count": null,
   "metadata": {},
   "outputs": [],
   "source": [
    "from collections import defaultdict\n",
    "\n",
    "def get_s2s():\n",
    "    data_final = defaultdict(lambda: defaultdict(list))\n",
    "\n",
    "    instruct = \"\"\"\n",
    "    \\n\\nHuman:You are a helpful assistant.\n",
    "    1. You need to continue writing based on the math problem I provided and the unfinished steps to get the final answer. \n",
    "    2. Use the prefix [Step x]: to indicate each step. x is further numbered based on the number of steps given in the previous text.\n",
    "    3. And at the end of the output, you should repeat your final numerical answer use \\'So, the numerical answer is: [number]\\'. [number] is the final numerical answer. And does not include any other explanatory notes.\n",
    "    \"\"\"\n",
    "    for data in datas:\n",
    "        question = data['question']\n",
    "        prompt = instruct + '<quesiton>: '+question + '\\n' + \"Let's think step by step.\\n [Step 1]: \" + '\\n\\nAssistant:'\n",
    "        solutions = data['solutions']\n",
    "        is_answer = data['is_answer']\n",
    "        response = []\n",
    "        \n",
    "        for i,a in enumerate(is_answer):\n",
    "            if a : \n",
    "                response.append(solutions[i])\n",
    "                break\n",
    "        for i,a in enumerate(is_answer):\n",
    "            if not a:\n",
    "                response.append(solutions[i])\n",
    "                break\n",
    "        data_final[prompt]['responses'] = response\n",
    "        data_final[prompt]['pairs'] = [(0,1)]\n",
    "        data_final[prompt]['sft_target'] = response[0]\n",
    "        \n",
    "    return data_final"
   ]
  },
  {
   "cell_type": "code",
   "execution_count": 3,
   "metadata": {},
   "outputs": [],
   "source": [
    "from utils import batch_prompt,build_batch_datas,map_output,extract_output,build_step2step_prompt,batch_step2step_prompt\n",
    "import json"
   ]
  },
  {
   "cell_type": "code",
   "execution_count": 5,
   "metadata": {},
   "outputs": [],
   "source": [
    "file = '/data/lyz/math_dpo/datas/step2step/gsm8k_step2step_sample.json'\n",
    "with open(file) as f:\n",
    "    datas_select = json.load(f)\n",
    "batch_size = 10\n",
    "batch_datas = build_batch_datas(datas_select,batch_size)"
   ]
  },
  {
   "cell_type": "code",
   "execution_count": 17,
   "metadata": {},
   "outputs": [
    {
     "name": "stdout",
     "output_type": "stream",
     "text": [
      "0\n",
      "425 188\n",
      "1\n",
      "167 307\n",
      "2\n",
      "155 269\n",
      "3\n",
      "476 72\n",
      "4\n",
      "1017 69\n",
      "5\n",
      "163 198\n",
      "6\n",
      "610 62\n",
      "7\n",
      "0 432\n",
      "8\n",
      "466 49\n",
      "9\n",
      "397 47\n"
     ]
    }
   ],
   "source": [
    "for i,data in enumerate(batch_datas[324]):\n",
    "    print(i)\n",
    "    # print(data)\n",
    "    print(len(data['front_step']),len(data['false_k_step']))"
   ]
  }
 ],
 "metadata": {
  "kernelspec": {
   "display_name": "qwen2",
   "language": "python",
   "name": "python3"
  },
  "language_info": {
   "codemirror_mode": {
    "name": "ipython",
    "version": 3
   },
   "file_extension": ".py",
   "mimetype": "text/x-python",
   "name": "python",
   "nbconvert_exporter": "python",
   "pygments_lexer": "ipython3",
   "version": "3.12.5"
  }
 },
 "nbformat": 4,
 "nbformat_minor": 2
}
