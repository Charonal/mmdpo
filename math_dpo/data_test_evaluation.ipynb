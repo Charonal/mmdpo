{
 "cells": [
  {
   "cell_type": "code",
   "execution_count": 1,
   "metadata": {},
   "outputs": [],
   "source": [
    "import json\n",
    "import re\n",
    "from data_process import eval_answer,extract_numerical_answer"
   ]
  },
  {
   "cell_type": "code",
   "execution_count": 37,
   "metadata": {},
   "outputs": [],
   "source": [
    "\n",
    "model = 'sol_infer_without_sft_hp1'\n",
    "file = '/data/lyz/math_dpo/output/gsm8k_test_{model}.json'.format(model = model)\n",
    "with open(file ) as f:\n",
    "    datas = json.load(f)"
   ]
  },
  {
   "cell_type": "code",
   "execution_count": 38,
   "metadata": {},
   "outputs": [
    {
     "name": "stdout",
     "output_type": "stream",
     "text": [
      "0.8223076923076923\n"
     ]
    }
   ],
   "source": [
    "#评估一次生成\n",
    "cnt = 0\n",
    "for data in datas:\n",
    "    outputs = data['solutions']\n",
    "    target = data['final_answer']\n",
    "    answers = extract_numerical_answer(outputs,target)\n",
    "    is_answer = eval_answer(answers,target)\n",
    "    if is_answer[0]:\n",
    "        cnt += 1 \n",
    "\n",
    "print(cnt / len(datas))\n"
   ]
  },
  {
   "cell_type": "code",
   "execution_count": 32,
   "metadata": {},
   "outputs": [
    {
     "name": "stdout",
     "output_type": "stream",
     "text": [
      "平均准确率: 0.8212307692307692\n"
     ]
    }
   ],
   "source": [
    "# 评估5次生成的平均准确率\n",
    "total_correct = 0\n",
    "for data in datas:\n",
    "    outputs = data['solutions']\n",
    "    target = data['final_answer']\n",
    "    answers = extract_numerical_answer(outputs, target)\n",
    "    is_answer = eval_answer(answers, target)\n",
    "    correct_count = sum(1 for x in is_answer if x) if is_answer is not None else 0\n",
    "    total_correct += correct_count\n",
    "\n",
    "average_accuracy = total_correct / (len(datas) * 5)\n",
    "print(f\"平均准确率: {average_accuracy}\")\n"
   ]
  }
 ],
 "metadata": {
  "kernelspec": {
   "display_name": "qwen2",
   "language": "python",
   "name": "python3"
  },
  "language_info": {
   "codemirror_mode": {
    "name": "ipython",
    "version": 3
   },
   "file_extension": ".py",
   "mimetype": "text/x-python",
   "name": "python",
   "nbconvert_exporter": "python",
   "pygments_lexer": "ipython3",
   "version": "3.12.5"
  }
 },
 "nbformat": 4,
 "nbformat_minor": 2
}
